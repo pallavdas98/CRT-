{
 "cells": [
  {
   "cell_type": "markdown",
   "metadata": {},
   "source": [
    "# Python\n",
    "\n",
    "NO hash Jupyter Python\n",
    "- Day1\n",
    "    - Sub point 1\n",
    "    - **Bold Point**\n",
    "    - *italic*\n",
    "    - ***Bold and Italic***"
   ]
  },
  {
   "cell_type": "code",
   "execution_count": 40,
   "metadata": {},
   "outputs": [
    {
     "name": "stdout",
     "output_type": "stream",
     "text": [
      "Hello world This is the 2nd statement\n",
      "Srinjan\n",
      "Your name is Srinjan\n",
      "True\n"
     ]
    }
   ],
   "source": [
    "print(\"Hello world\", end = ' ')\n",
    "print(\"This is the 2nd statement\")\n",
    "b = input('')\n",
    "print(\"Your name is\",b)\n",
    "print('S' in b)"
   ]
  },
  {
   "cell_type": "code",
   "execution_count": 41,
   "metadata": {},
   "outputs": [
    {
     "name": "stdout",
     "output_type": "stream",
     "text": [
      "Enter the first number: \n",
      "56.78\n",
      "Enter the secod number:\n",
      "43\n",
      "The sum of the two numbers is: 99.78\n",
      "Enter the amount: \n",
      "100\n",
      "The answer is true\n",
      "5\n",
      "5.0\n"
     ]
    },
    {
     "data": {
      "text/plain": [
       "(99.78+5j)"
      ]
     },
     "execution_count": 41,
     "metadata": {},
     "output_type": "execute_result"
    }
   ],
   "source": [
    "\n",
    "print(\"Enter the first number: \")\n",
    "a = float(input(\"\"))\n",
    "print(\"Enter the secod number:\")\n",
    "b=int(input(\"\"))\n",
    "c=a+b\n",
    "float(c)\n",
    "print(\"The sum of the two numbers is:\",c)\n",
    "type(c)\n",
    "print(\"Enter the amount: \")\n",
    "n= int(input(\"\"))\n",
    "if c<=n:\n",
    "    print(\"The answer is true\")\n",
    "else:\n",
    "    print(\"The answer is false\")\n",
    "k = float(input(\"\"))\n",
    "complex(c,k)"
   ]
  },
  {
   "cell_type": "code",
   "execution_count": 44,
   "metadata": {},
   "outputs": [
    {
     "name": "stdout",
     "output_type": "stream",
     "text": [
      "Enter the number: \n",
      "3\n",
      "The number is odd\n"
     ]
    }
   ],
   "source": [
    "print(\"Enter the number: \")\n",
    "num = float(input(\"\"))\n",
    "if num%2==0:\n",
    "    print(\"The number is even\")\n",
    "else:\n",
    "    print(\"The number is odd\")"
   ]
  },
  {
   "cell_type": "code",
   "execution_count": 45,
   "metadata": {},
   "outputs": [
    {
     "name": "stdout",
     "output_type": "stream",
     "text": [
      "2000\n",
      "Not a leap year\n"
     ]
    }
   ],
   "source": [
    "year = int(input(\"\"))\n",
    "if(year%4==0 and year%400==0 and year%100!=0):\n",
    "    print(\"Leap year\")\n",
    "else:\n",
    "    print(\"Not a leap year\")"
   ]
  },
  {
   "cell_type": "markdown",
   "metadata": {},
   "source": [
    "# LOOP\n",
    "- While Loop\n",
    "- For Loop"
   ]
  },
  {
   "cell_type": "code",
   "execution_count": null,
   "metadata": {},
   "outputs": [],
   "source": []
  }
 ],
 "metadata": {
  "kernelspec": {
   "display_name": "Python 3",
   "language": "python",
   "name": "python3"
  },
  "language_info": {
   "codemirror_mode": {
    "name": "ipython",
    "version": 3
   },
   "file_extension": ".py",
   "mimetype": "text/x-python",
   "name": "python",
   "nbconvert_exporter": "python",
   "pygments_lexer": "ipython3",
   "version": "3.7.4"
  }
 },
 "nbformat": 4,
 "nbformat_minor": 2
}
